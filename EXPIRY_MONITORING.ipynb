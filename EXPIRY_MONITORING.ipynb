{
  "cells": [
    {
      "cell_type": "code",
      "execution_count": null,
      "metadata": {
        "colab": {
          "base_uri": "https://localhost:8080/"
        },
        "id": "3hgowTxWKV39",
        "outputId": "add91dee-7d48-4246-e126-dbb543ed9e29"
      },
      "outputs": [
        {
          "output_type": "stream",
          "name": "stdout",
          "text": [
            "Requirement already satisfied: scikit-learn in /usr/local/lib/python3.11/dist-packages (1.6.1)\n",
            "Requirement already satisfied: numpy>=1.19.5 in /usr/local/lib/python3.11/dist-packages (from scikit-learn) (2.0.2)\n",
            "Requirement already satisfied: scipy>=1.6.0 in /usr/local/lib/python3.11/dist-packages (from scikit-learn) (1.15.2)\n",
            "Requirement already satisfied: joblib>=1.2.0 in /usr/local/lib/python3.11/dist-packages (from scikit-learn) (1.4.2)\n",
            "Requirement already satisfied: threadpoolctl>=3.1.0 in /usr/local/lib/python3.11/dist-packages (from scikit-learn) (3.6.0)\n"
          ]
        }
      ],
      "source": [
        "!pip install scikit-learn\n",
        "from sklearn.feature_selection import RFE\n",
        "import pandas as pd\n",
        "import numpy as np\n",
        "import matplotlib.pyplot as plt\n",
        "from sklearn.model_selection import train_test_split\n",
        "from sklearn.preprocessing import LabelEncoder, StandardScaler\n",
        "from sklearn.svm import SVC\n",
        "from sklearn.naive_bayes import GaussianNB\n",
        "from sklearn.metrics import accuracy_score, classification_report\n",
        "from google.colab import files\n",
        "from imblearn.over_sampling import SMOTE\n",
        "from sklearn.feature_selection import SelectKBest, mutual_info_classif\n",
        "from sklearn.model_selection import GridSearchCV, cross_val_score\n",
        "from sklearn.ensemble import VotingClassifier, RandomForestClassifier\n",
        "from sklearn.model_selection import RandomizedSearchCV # Import the RandomizedSearchCV class"
      ]
    },
    {
      "cell_type": "code",
      "execution_count": null,
      "metadata": {
        "colab": {
          "base_uri": "https://localhost:8080/",
          "height": 91
        },
        "id": "jayuV1_TIo1g",
        "outputId": "32911e78-c81f-45e3-fd0e-d428a5b1ba3e"
      },
      "outputs": [
        {
          "output_type": "stream",
          "name": "stdout",
          "text": [
            "Please upload the dataset file.\n"
          ]
        },
        {
          "output_type": "display_data",
          "data": {
            "text/plain": [
              "<IPython.core.display.HTML object>"
            ],
            "text/html": [
              "\n",
              "     <input type=\"file\" id=\"files-2a3a8c56-f66d-41e9-8216-8a4a972189c8\" name=\"files[]\" multiple disabled\n",
              "        style=\"border:none\" />\n",
              "     <output id=\"result-2a3a8c56-f66d-41e9-8216-8a4a972189c8\">\n",
              "      Upload widget is only available when the cell has been executed in the\n",
              "      current browser session. Please rerun this cell to enable.\n",
              "      </output>\n",
              "      <script>// Copyright 2017 Google LLC\n",
              "//\n",
              "// Licensed under the Apache License, Version 2.0 (the \"License\");\n",
              "// you may not use this file except in compliance with the License.\n",
              "// You may obtain a copy of the License at\n",
              "//\n",
              "//      http://www.apache.org/licenses/LICENSE-2.0\n",
              "//\n",
              "// Unless required by applicable law or agreed to in writing, software\n",
              "// distributed under the License is distributed on an \"AS IS\" BASIS,\n",
              "// WITHOUT WARRANTIES OR CONDITIONS OF ANY KIND, either express or implied.\n",
              "// See the License for the specific language governing permissions and\n",
              "// limitations under the License.\n",
              "\n",
              "/**\n",
              " * @fileoverview Helpers for google.colab Python module.\n",
              " */\n",
              "(function(scope) {\n",
              "function span(text, styleAttributes = {}) {\n",
              "  const element = document.createElement('span');\n",
              "  element.textContent = text;\n",
              "  for (const key of Object.keys(styleAttributes)) {\n",
              "    element.style[key] = styleAttributes[key];\n",
              "  }\n",
              "  return element;\n",
              "}\n",
              "\n",
              "// Max number of bytes which will be uploaded at a time.\n",
              "const MAX_PAYLOAD_SIZE = 100 * 1024;\n",
              "\n",
              "function _uploadFiles(inputId, outputId) {\n",
              "  const steps = uploadFilesStep(inputId, outputId);\n",
              "  const outputElement = document.getElementById(outputId);\n",
              "  // Cache steps on the outputElement to make it available for the next call\n",
              "  // to uploadFilesContinue from Python.\n",
              "  outputElement.steps = steps;\n",
              "\n",
              "  return _uploadFilesContinue(outputId);\n",
              "}\n",
              "\n",
              "// This is roughly an async generator (not supported in the browser yet),\n",
              "// where there are multiple asynchronous steps and the Python side is going\n",
              "// to poll for completion of each step.\n",
              "// This uses a Promise to block the python side on completion of each step,\n",
              "// then passes the result of the previous step as the input to the next step.\n",
              "function _uploadFilesContinue(outputId) {\n",
              "  const outputElement = document.getElementById(outputId);\n",
              "  const steps = outputElement.steps;\n",
              "\n",
              "  const next = steps.next(outputElement.lastPromiseValue);\n",
              "  return Promise.resolve(next.value.promise).then((value) => {\n",
              "    // Cache the last promise value to make it available to the next\n",
              "    // step of the generator.\n",
              "    outputElement.lastPromiseValue = value;\n",
              "    return next.value.response;\n",
              "  });\n",
              "}\n",
              "\n",
              "/**\n",
              " * Generator function which is called between each async step of the upload\n",
              " * process.\n",
              " * @param {string} inputId Element ID of the input file picker element.\n",
              " * @param {string} outputId Element ID of the output display.\n",
              " * @return {!Iterable<!Object>} Iterable of next steps.\n",
              " */\n",
              "function* uploadFilesStep(inputId, outputId) {\n",
              "  const inputElement = document.getElementById(inputId);\n",
              "  inputElement.disabled = false;\n",
              "\n",
              "  const outputElement = document.getElementById(outputId);\n",
              "  outputElement.innerHTML = '';\n",
              "\n",
              "  const pickedPromise = new Promise((resolve) => {\n",
              "    inputElement.addEventListener('change', (e) => {\n",
              "      resolve(e.target.files);\n",
              "    });\n",
              "  });\n",
              "\n",
              "  const cancel = document.createElement('button');\n",
              "  inputElement.parentElement.appendChild(cancel);\n",
              "  cancel.textContent = 'Cancel upload';\n",
              "  const cancelPromise = new Promise((resolve) => {\n",
              "    cancel.onclick = () => {\n",
              "      resolve(null);\n",
              "    };\n",
              "  });\n",
              "\n",
              "  // Wait for the user to pick the files.\n",
              "  const files = yield {\n",
              "    promise: Promise.race([pickedPromise, cancelPromise]),\n",
              "    response: {\n",
              "      action: 'starting',\n",
              "    }\n",
              "  };\n",
              "\n",
              "  cancel.remove();\n",
              "\n",
              "  // Disable the input element since further picks are not allowed.\n",
              "  inputElement.disabled = true;\n",
              "\n",
              "  if (!files) {\n",
              "    return {\n",
              "      response: {\n",
              "        action: 'complete',\n",
              "      }\n",
              "    };\n",
              "  }\n",
              "\n",
              "  for (const file of files) {\n",
              "    const li = document.createElement('li');\n",
              "    li.append(span(file.name, {fontWeight: 'bold'}));\n",
              "    li.append(span(\n",
              "        `(${file.type || 'n/a'}) - ${file.size} bytes, ` +\n",
              "        `last modified: ${\n",
              "            file.lastModifiedDate ? file.lastModifiedDate.toLocaleDateString() :\n",
              "                                    'n/a'} - `));\n",
              "    const percent = span('0% done');\n",
              "    li.appendChild(percent);\n",
              "\n",
              "    outputElement.appendChild(li);\n",
              "\n",
              "    const fileDataPromise = new Promise((resolve) => {\n",
              "      const reader = new FileReader();\n",
              "      reader.onload = (e) => {\n",
              "        resolve(e.target.result);\n",
              "      };\n",
              "      reader.readAsArrayBuffer(file);\n",
              "    });\n",
              "    // Wait for the data to be ready.\n",
              "    let fileData = yield {\n",
              "      promise: fileDataPromise,\n",
              "      response: {\n",
              "        action: 'continue',\n",
              "      }\n",
              "    };\n",
              "\n",
              "    // Use a chunked sending to avoid message size limits. See b/62115660.\n",
              "    let position = 0;\n",
              "    do {\n",
              "      const length = Math.min(fileData.byteLength - position, MAX_PAYLOAD_SIZE);\n",
              "      const chunk = new Uint8Array(fileData, position, length);\n",
              "      position += length;\n",
              "\n",
              "      const base64 = btoa(String.fromCharCode.apply(null, chunk));\n",
              "      yield {\n",
              "        response: {\n",
              "          action: 'append',\n",
              "          file: file.name,\n",
              "          data: base64,\n",
              "        },\n",
              "      };\n",
              "\n",
              "      let percentDone = fileData.byteLength === 0 ?\n",
              "          100 :\n",
              "          Math.round((position / fileData.byteLength) * 100);\n",
              "      percent.textContent = `${percentDone}% done`;\n",
              "\n",
              "    } while (position < fileData.byteLength);\n",
              "  }\n",
              "\n",
              "  // All done.\n",
              "  yield {\n",
              "    response: {\n",
              "      action: 'complete',\n",
              "    }\n",
              "  };\n",
              "}\n",
              "\n",
              "scope.google = scope.google || {};\n",
              "scope.google.colab = scope.google.colab || {};\n",
              "scope.google.colab._files = {\n",
              "  _uploadFiles,\n",
              "  _uploadFilesContinue,\n",
              "};\n",
              "})(self);\n",
              "</script> "
            ]
          },
          "metadata": {}
        },
        {
          "output_type": "stream",
          "name": "stdout",
          "text": [
            "Saving Expiry data updated.xlsx to Expiry data updated.xlsx\n"
          ]
        }
      ],
      "source": [
        "print(\"Please upload the dataset file.\")\n",
        "uploaded = files.upload()"
      ]
    },
    {
      "cell_type": "code",
      "execution_count": null,
      "metadata": {
        "id": "UZ2Yn0W0IpEh"
      },
      "outputs": [],
      "source": [
        "dataset_filename = list(uploaded.keys())[0]\n",
        "df = pd.read_excel(dataset_filename)"
      ]
    },
    {
      "cell_type": "code",
      "execution_count": null,
      "metadata": {
        "colab": {
          "base_uri": "https://localhost:8080/"
        },
        "id": "OT09w32FIpQv",
        "outputId": "5f4eca70-c8a3-49f2-800e-f1a446c1c97e"
      },
      "outputs": [
        {
          "output_type": "stream",
          "name": "stdout",
          "text": [
            "Column names in dataset: ['DRUG ID', 'Current Stock Quantity', 'Units (Nos/Kg)', 'Average Lead Time (days)', 'Maximum Lead Time (days)', 'Unit Price', 'Expiry Date', 'Drug storage location']\n"
          ]
        }
      ],
      "source": [
        "print(\"Column names in dataset:\", df.columns.tolist())"
      ]
    },
    {
      "cell_type": "code",
      "execution_count": null,
      "metadata": {
        "id": "vUKu1QDEI5zk"
      },
      "outputs": [],
      "source": [
        "df.columns = df.columns.str.strip().str.lower()"
      ]
    },
    {
      "cell_type": "code",
      "execution_count": null,
      "metadata": {
        "colab": {
          "base_uri": "https://localhost:8080/",
          "height": 276
        },
        "id": "c4O8VZfLI6BW",
        "outputId": "9f577e25-229f-43c8-c28a-7160b1fe51e2"
      },
      "outputs": [
        {
          "output_type": "stream",
          "name": "stdout",
          "text": [
            "First few rows of the dataset:\n"
          ]
        },
        {
          "output_type": "display_data",
          "data": {
            "text/plain": [
              "  drug id  current stock quantity units (nos/kg)  average lead time (days)  \\\n",
              "0  1009AA                  7210.0             Kg                        30   \n",
              "1  1077CA                 46516.0             Kg                        45   \n",
              "2  1083AA                 48210.0             Kg                        45   \n",
              "3  1116CA                 33398.0             Kg                        90   \n",
              "4  1126CA                 39270.0             Kg                        45   \n",
              "\n",
              "   maximum lead time (days)  unit price expiry date  \\\n",
              "0                        48    28.76326  2010-02-05   \n",
              "1                        70    22.97770  2010-02-12   \n",
              "2                        68    29.02000  2010-02-19   \n",
              "3                       140    32.80000  2010-02-26   \n",
              "4                        62    32.80000  2010-03-05   \n",
              "\n",
              "                               drug storage location  \n",
              "0  JAI BALAJI DISTRIBUTORS, NEW MARKET SHOP NO.**...  \n",
              "1  SUNDRAM FASTENERS LIMITED B ** SIPCOT INDUSTRI...  \n",
              "2  Bakul-*, Shardashish Township, Torrent Power L...  \n",
              "3  Sonkar Bhawan, Near Ashok Kirana Store, Infron...  \n",
              "4  jambli \\n maida factory near jambli  , jambli,...  "
            ],
            "text/html": [
              "\n",
              "  <div id=\"df-46a8c390-948a-46a5-a946-70e30c9ee6aa\" class=\"colab-df-container\">\n",
              "    <div>\n",
              "<style scoped>\n",
              "    .dataframe tbody tr th:only-of-type {\n",
              "        vertical-align: middle;\n",
              "    }\n",
              "\n",
              "    .dataframe tbody tr th {\n",
              "        vertical-align: top;\n",
              "    }\n",
              "\n",
              "    .dataframe thead th {\n",
              "        text-align: right;\n",
              "    }\n",
              "</style>\n",
              "<table border=\"1\" class=\"dataframe\">\n",
              "  <thead>\n",
              "    <tr style=\"text-align: right;\">\n",
              "      <th></th>\n",
              "      <th>drug id</th>\n",
              "      <th>current stock quantity</th>\n",
              "      <th>units (nos/kg)</th>\n",
              "      <th>average lead time (days)</th>\n",
              "      <th>maximum lead time (days)</th>\n",
              "      <th>unit price</th>\n",
              "      <th>expiry date</th>\n",
              "      <th>drug storage location</th>\n",
              "    </tr>\n",
              "  </thead>\n",
              "  <tbody>\n",
              "    <tr>\n",
              "      <th>0</th>\n",
              "      <td>1009AA</td>\n",
              "      <td>7210.0</td>\n",
              "      <td>Kg</td>\n",
              "      <td>30</td>\n",
              "      <td>48</td>\n",
              "      <td>28.76326</td>\n",
              "      <td>2010-02-05</td>\n",
              "      <td>JAI BALAJI DISTRIBUTORS, NEW MARKET SHOP NO.**...</td>\n",
              "    </tr>\n",
              "    <tr>\n",
              "      <th>1</th>\n",
              "      <td>1077CA</td>\n",
              "      <td>46516.0</td>\n",
              "      <td>Kg</td>\n",
              "      <td>45</td>\n",
              "      <td>70</td>\n",
              "      <td>22.97770</td>\n",
              "      <td>2010-02-12</td>\n",
              "      <td>SUNDRAM FASTENERS LIMITED B ** SIPCOT INDUSTRI...</td>\n",
              "    </tr>\n",
              "    <tr>\n",
              "      <th>2</th>\n",
              "      <td>1083AA</td>\n",
              "      <td>48210.0</td>\n",
              "      <td>Kg</td>\n",
              "      <td>45</td>\n",
              "      <td>68</td>\n",
              "      <td>29.02000</td>\n",
              "      <td>2010-02-19</td>\n",
              "      <td>Bakul-*, Shardashish Township, Torrent Power L...</td>\n",
              "    </tr>\n",
              "    <tr>\n",
              "      <th>3</th>\n",
              "      <td>1116CA</td>\n",
              "      <td>33398.0</td>\n",
              "      <td>Kg</td>\n",
              "      <td>90</td>\n",
              "      <td>140</td>\n",
              "      <td>32.80000</td>\n",
              "      <td>2010-02-26</td>\n",
              "      <td>Sonkar Bhawan, Near Ashok Kirana Store, Infron...</td>\n",
              "    </tr>\n",
              "    <tr>\n",
              "      <th>4</th>\n",
              "      <td>1126CA</td>\n",
              "      <td>39270.0</td>\n",
              "      <td>Kg</td>\n",
              "      <td>45</td>\n",
              "      <td>62</td>\n",
              "      <td>32.80000</td>\n",
              "      <td>2010-03-05</td>\n",
              "      <td>jambli \\n maida factory near jambli  , jambli,...</td>\n",
              "    </tr>\n",
              "  </tbody>\n",
              "</table>\n",
              "</div>\n",
              "    <div class=\"colab-df-buttons\">\n",
              "\n",
              "  <div class=\"colab-df-container\">\n",
              "    <button class=\"colab-df-convert\" onclick=\"convertToInteractive('df-46a8c390-948a-46a5-a946-70e30c9ee6aa')\"\n",
              "            title=\"Convert this dataframe to an interactive table.\"\n",
              "            style=\"display:none;\">\n",
              "\n",
              "  <svg xmlns=\"http://www.w3.org/2000/svg\" height=\"24px\" viewBox=\"0 -960 960 960\">\n",
              "    <path d=\"M120-120v-720h720v720H120Zm60-500h600v-160H180v160Zm220 220h160v-160H400v160Zm0 220h160v-160H400v160ZM180-400h160v-160H180v160Zm440 0h160v-160H620v160ZM180-180h160v-160H180v160Zm440 0h160v-160H620v160Z\"/>\n",
              "  </svg>\n",
              "    </button>\n",
              "\n",
              "  <style>\n",
              "    .colab-df-container {\n",
              "      display:flex;\n",
              "      gap: 12px;\n",
              "    }\n",
              "\n",
              "    .colab-df-convert {\n",
              "      background-color: #E8F0FE;\n",
              "      border: none;\n",
              "      border-radius: 50%;\n",
              "      cursor: pointer;\n",
              "      display: none;\n",
              "      fill: #1967D2;\n",
              "      height: 32px;\n",
              "      padding: 0 0 0 0;\n",
              "      width: 32px;\n",
              "    }\n",
              "\n",
              "    .colab-df-convert:hover {\n",
              "      background-color: #E2EBFA;\n",
              "      box-shadow: 0px 1px 2px rgba(60, 64, 67, 0.3), 0px 1px 3px 1px rgba(60, 64, 67, 0.15);\n",
              "      fill: #174EA6;\n",
              "    }\n",
              "\n",
              "    .colab-df-buttons div {\n",
              "      margin-bottom: 4px;\n",
              "    }\n",
              "\n",
              "    [theme=dark] .colab-df-convert {\n",
              "      background-color: #3B4455;\n",
              "      fill: #D2E3FC;\n",
              "    }\n",
              "\n",
              "    [theme=dark] .colab-df-convert:hover {\n",
              "      background-color: #434B5C;\n",
              "      box-shadow: 0px 1px 3px 1px rgba(0, 0, 0, 0.15);\n",
              "      filter: drop-shadow(0px 1px 2px rgba(0, 0, 0, 0.3));\n",
              "      fill: #FFFFFF;\n",
              "    }\n",
              "  </style>\n",
              "\n",
              "    <script>\n",
              "      const buttonEl =\n",
              "        document.querySelector('#df-46a8c390-948a-46a5-a946-70e30c9ee6aa button.colab-df-convert');\n",
              "      buttonEl.style.display =\n",
              "        google.colab.kernel.accessAllowed ? 'block' : 'none';\n",
              "\n",
              "      async function convertToInteractive(key) {\n",
              "        const element = document.querySelector('#df-46a8c390-948a-46a5-a946-70e30c9ee6aa');\n",
              "        const dataTable =\n",
              "          await google.colab.kernel.invokeFunction('convertToInteractive',\n",
              "                                                    [key], {});\n",
              "        if (!dataTable) return;\n",
              "\n",
              "        const docLinkHtml = 'Like what you see? Visit the ' +\n",
              "          '<a target=\"_blank\" href=https://colab.research.google.com/notebooks/data_table.ipynb>data table notebook</a>'\n",
              "          + ' to learn more about interactive tables.';\n",
              "        element.innerHTML = '';\n",
              "        dataTable['output_type'] = 'display_data';\n",
              "        await google.colab.output.renderOutput(dataTable, element);\n",
              "        const docLink = document.createElement('div');\n",
              "        docLink.innerHTML = docLinkHtml;\n",
              "        element.appendChild(docLink);\n",
              "      }\n",
              "    </script>\n",
              "  </div>\n",
              "\n",
              "\n",
              "    <div id=\"df-80b52013-53c3-4bba-bb67-e9869173503d\">\n",
              "      <button class=\"colab-df-quickchart\" onclick=\"quickchart('df-80b52013-53c3-4bba-bb67-e9869173503d')\"\n",
              "                title=\"Suggest charts\"\n",
              "                style=\"display:none;\">\n",
              "\n",
              "<svg xmlns=\"http://www.w3.org/2000/svg\" height=\"24px\"viewBox=\"0 0 24 24\"\n",
              "     width=\"24px\">\n",
              "    <g>\n",
              "        <path d=\"M19 3H5c-1.1 0-2 .9-2 2v14c0 1.1.9 2 2 2h14c1.1 0 2-.9 2-2V5c0-1.1-.9-2-2-2zM9 17H7v-7h2v7zm4 0h-2V7h2v10zm4 0h-2v-4h2v4z\"/>\n",
              "    </g>\n",
              "</svg>\n",
              "      </button>\n",
              "\n",
              "<style>\n",
              "  .colab-df-quickchart {\n",
              "      --bg-color: #E8F0FE;\n",
              "      --fill-color: #1967D2;\n",
              "      --hover-bg-color: #E2EBFA;\n",
              "      --hover-fill-color: #174EA6;\n",
              "      --disabled-fill-color: #AAA;\n",
              "      --disabled-bg-color: #DDD;\n",
              "  }\n",
              "\n",
              "  [theme=dark] .colab-df-quickchart {\n",
              "      --bg-color: #3B4455;\n",
              "      --fill-color: #D2E3FC;\n",
              "      --hover-bg-color: #434B5C;\n",
              "      --hover-fill-color: #FFFFFF;\n",
              "      --disabled-bg-color: #3B4455;\n",
              "      --disabled-fill-color: #666;\n",
              "  }\n",
              "\n",
              "  .colab-df-quickchart {\n",
              "    background-color: var(--bg-color);\n",
              "    border: none;\n",
              "    border-radius: 50%;\n",
              "    cursor: pointer;\n",
              "    display: none;\n",
              "    fill: var(--fill-color);\n",
              "    height: 32px;\n",
              "    padding: 0;\n",
              "    width: 32px;\n",
              "  }\n",
              "\n",
              "  .colab-df-quickchart:hover {\n",
              "    background-color: var(--hover-bg-color);\n",
              "    box-shadow: 0 1px 2px rgba(60, 64, 67, 0.3), 0 1px 3px 1px rgba(60, 64, 67, 0.15);\n",
              "    fill: var(--button-hover-fill-color);\n",
              "  }\n",
              "\n",
              "  .colab-df-quickchart-complete:disabled,\n",
              "  .colab-df-quickchart-complete:disabled:hover {\n",
              "    background-color: var(--disabled-bg-color);\n",
              "    fill: var(--disabled-fill-color);\n",
              "    box-shadow: none;\n",
              "  }\n",
              "\n",
              "  .colab-df-spinner {\n",
              "    border: 2px solid var(--fill-color);\n",
              "    border-color: transparent;\n",
              "    border-bottom-color: var(--fill-color);\n",
              "    animation:\n",
              "      spin 1s steps(1) infinite;\n",
              "  }\n",
              "\n",
              "  @keyframes spin {\n",
              "    0% {\n",
              "      border-color: transparent;\n",
              "      border-bottom-color: var(--fill-color);\n",
              "      border-left-color: var(--fill-color);\n",
              "    }\n",
              "    20% {\n",
              "      border-color: transparent;\n",
              "      border-left-color: var(--fill-color);\n",
              "      border-top-color: var(--fill-color);\n",
              "    }\n",
              "    30% {\n",
              "      border-color: transparent;\n",
              "      border-left-color: var(--fill-color);\n",
              "      border-top-color: var(--fill-color);\n",
              "      border-right-color: var(--fill-color);\n",
              "    }\n",
              "    40% {\n",
              "      border-color: transparent;\n",
              "      border-right-color: var(--fill-color);\n",
              "      border-top-color: var(--fill-color);\n",
              "    }\n",
              "    60% {\n",
              "      border-color: transparent;\n",
              "      border-right-color: var(--fill-color);\n",
              "    }\n",
              "    80% {\n",
              "      border-color: transparent;\n",
              "      border-right-color: var(--fill-color);\n",
              "      border-bottom-color: var(--fill-color);\n",
              "    }\n",
              "    90% {\n",
              "      border-color: transparent;\n",
              "      border-bottom-color: var(--fill-color);\n",
              "    }\n",
              "  }\n",
              "</style>\n",
              "\n",
              "      <script>\n",
              "        async function quickchart(key) {\n",
              "          const quickchartButtonEl =\n",
              "            document.querySelector('#' + key + ' button');\n",
              "          quickchartButtonEl.disabled = true;  // To prevent multiple clicks.\n",
              "          quickchartButtonEl.classList.add('colab-df-spinner');\n",
              "          try {\n",
              "            const charts = await google.colab.kernel.invokeFunction(\n",
              "                'suggestCharts', [key], {});\n",
              "          } catch (error) {\n",
              "            console.error('Error during call to suggestCharts:', error);\n",
              "          }\n",
              "          quickchartButtonEl.classList.remove('colab-df-spinner');\n",
              "          quickchartButtonEl.classList.add('colab-df-quickchart-complete');\n",
              "        }\n",
              "        (() => {\n",
              "          let quickchartButtonEl =\n",
              "            document.querySelector('#df-80b52013-53c3-4bba-bb67-e9869173503d button');\n",
              "          quickchartButtonEl.style.display =\n",
              "            google.colab.kernel.accessAllowed ? 'block' : 'none';\n",
              "        })();\n",
              "      </script>\n",
              "    </div>\n",
              "\n",
              "    </div>\n",
              "  </div>\n"
            ],
            "application/vnd.google.colaboratory.intrinsic+json": {
              "type": "dataframe",
              "summary": "{\n  \"name\": \"display(df\",\n  \"rows\": 5,\n  \"fields\": [\n    {\n      \"column\": \"drug id\",\n      \"properties\": {\n        \"dtype\": \"string\",\n        \"num_unique_values\": 5,\n        \"samples\": [\n          \"1077CA\",\n          \"1126CA\",\n          \"1083AA\"\n        ],\n        \"semantic_type\": \"\",\n        \"description\": \"\"\n      }\n    },\n    {\n      \"column\": \"current stock quantity\",\n      \"properties\": {\n        \"dtype\": \"number\",\n        \"std\": 16584.438465018946,\n        \"min\": 7210.0,\n        \"max\": 48210.0,\n        \"num_unique_values\": 5,\n        \"samples\": [\n          46516.0,\n          39270.0,\n          48210.0\n        ],\n        \"semantic_type\": \"\",\n        \"description\": \"\"\n      }\n    },\n    {\n      \"column\": \"units (nos/kg)\",\n      \"properties\": {\n        \"dtype\": \"category\",\n        \"num_unique_values\": 1,\n        \"samples\": [\n          \"Kg\"\n        ],\n        \"semantic_type\": \"\",\n        \"description\": \"\"\n      }\n    },\n    {\n      \"column\": \"average lead time (days)\",\n      \"properties\": {\n        \"dtype\": \"number\",\n        \"std\": 22,\n        \"min\": 30,\n        \"max\": 90,\n        \"num_unique_values\": 3,\n        \"samples\": [\n          30\n        ],\n        \"semantic_type\": \"\",\n        \"description\": \"\"\n      }\n    },\n    {\n      \"column\": \"maximum lead time (days)\",\n      \"properties\": {\n        \"dtype\": \"number\",\n        \"std\": 35,\n        \"min\": 48,\n        \"max\": 140,\n        \"num_unique_values\": 5,\n        \"samples\": [\n          70\n        ],\n        \"semantic_type\": \"\",\n        \"description\": \"\"\n      }\n    },\n    {\n      \"column\": \"unit price\",\n      \"properties\": {\n        \"dtype\": \"number\",\n        \"std\": 4.025981268376691,\n        \"min\": 22.9777,\n        \"max\": 32.8,\n        \"num_unique_values\": 4,\n        \"samples\": [\n          22.9777\n        ],\n        \"semantic_type\": \"\",\n        \"description\": \"\"\n      }\n    },\n    {\n      \"column\": \"expiry date\",\n      \"properties\": {\n        \"dtype\": \"date\",\n        \"min\": \"2010-02-05 00:00:00\",\n        \"max\": \"2010-03-05 00:00:00\",\n        \"num_unique_values\": 5,\n        \"samples\": [\n          \"2010-02-12 00:00:00\"\n        ],\n        \"semantic_type\": \"\",\n        \"description\": \"\"\n      }\n    },\n    {\n      \"column\": \"drug storage location\",\n      \"properties\": {\n        \"dtype\": \"string\",\n        \"num_unique_values\": 5,\n        \"samples\": [\n          \"SUNDRAM FASTENERS LIMITED B ** SIPCOT INDUSTRIAL COMPLEX GUMMIDIPOONDI  , Gummudipoondi, Tamil Nadu, 601201\"\n        ],\n        \"semantic_type\": \"\",\n        \"description\": \"\"\n      }\n    }\n  ]\n}"
            }
          },
          "metadata": {}
        }
      ],
      "source": [
        "print(\"First few rows of the dataset:\")\n",
        "display(df.head())"
      ]
    },
    {
      "cell_type": "code",
      "execution_count": null,
      "metadata": {
        "id": "KwSqsVPkI6Iy"
      },
      "outputs": [],
      "source": [
        "if 'expiry date' in df.columns:\n",
        "    df['expiry date'] = pd.to_datetime(df['expiry date'], errors='coerce')\n",
        "else:\n",
        "    raise KeyError(\"Column 'expiry date' not found. Please check the dataset.\")"
      ]
    },
    {
      "cell_type": "code",
      "execution_count": null,
      "metadata": {
        "colab": {
          "base_uri": "https://localhost:8080/"
        },
        "id": "MaKI1iHQIpSR",
        "outputId": "1401865c-b326-43aa-c4cd-8ec2f5631f7a"
      },
      "outputs": [
        {
          "output_type": "stream",
          "name": "stdout",
          "text": [
            "Number of rows after dropping missing expiry dates: 303\n"
          ]
        }
      ],
      "source": [
        "df = df.dropna(subset=['expiry date'])\n",
        "print(\"Number of rows after dropping missing expiry dates:\", len(df))"
      ]
    },
    {
      "cell_type": "code",
      "execution_count": null,
      "metadata": {
        "colab": {
          "base_uri": "https://localhost:8080/"
        },
        "id": "0IBP2tL6JJE6",
        "outputId": "9dee4269-7fd1-4a12-f845-edb7caab9ff2"
      },
      "outputs": [
        {
          "output_type": "stream",
          "name": "stdout",
          "text": [
            "Range of days_to_expiry:\n",
            "Min: -5537\n",
            "Max: -4543\n",
            "Sample values: 0   -5537\n",
            "1   -5530\n",
            "2   -5523\n",
            "3   -5516\n",
            "4   -5509\n",
            "5   -5502\n",
            "6   -5495\n",
            "7   -5488\n",
            "8   -5481\n",
            "9   -5474\n",
            "Name: days_to_expiry, dtype: int64\n",
            "All drugs are expired. Adjusting bins for expired drugs.\n",
            "Adjusted bins for expired drugs: [-inf, -5338.2, -5139.4, -4940.6, -4741.8, inf]\n",
            "Class distribution after creating expiry_category:\n",
            "expiry_category\n",
            "0    75\n",
            "2    58\n",
            "4    58\n",
            "1    56\n",
            "3    56\n",
            "Name: count, dtype: int64\n",
            "Number of rows after cleaning numeric columns: 303\n"
          ]
        }
      ],
      "source": [
        "current_date = pd.Timestamp('2025-04-04')\n",
        "df['days_to_expiry'] = (df['expiry date'] - current_date).dt.days\n",
        "\n",
        "# Debug: Check the range of days_to_expiry\n",
        "print(\"Range of days_to_expiry:\")\n",
        "print(\"Min:\", df['days_to_expiry'].min())\n",
        "print(\"Max:\", df['days_to_expiry'].max())\n",
        "print(\"Sample values:\", df['days_to_expiry'].head(10))\n",
        "\n",
        "# Adjust bins based on the data distribution\n",
        "if df['days_to_expiry'].max() <= 0:\n",
        "    print(\"All drugs are expired. Adjusting bins for expired drugs.\")\n",
        "    # Calculate dynamic bins based on the range of days_to_expiry\n",
        "    min_days = df['days_to_expiry'].min()\n",
        "    max_days = df['days_to_expiry'].max()\n",
        "    range_days = max_days - min_days\n",
        "    if range_days == 0:\n",
        "        raise ValueError(\"All drugs have the same expiry date. Cannot create multiple classes for SMOTE.\")\n",
        "    # Create 5 bins by dividing the range into equal intervals\n",
        "    step = range_days / 5\n",
        "    bins = [min_days + i * step for i in range(6)]\n",
        "    bins[0] = -np.inf  # Ensure the first bin captures all values less than min_days\n",
        "    bins[-1] = np.inf   # Ensure the last bin captures any future dates (though unlikely here)\n",
        "    labels = [0, 1, 2, 3, 4]\n",
        "    print(\"Adjusted bins for expired drugs:\", bins)\n",
        "elif df['days_to_expiry'].min() >= 0:\n",
        "    print(\"All drugs are not expired. Adjusting bins for non-expired drugs.\")\n",
        "    bins = [-np.inf, 0, 30, 180, 365, np.inf]\n",
        "    labels = [0, 1, 2, 3, 4]\n",
        "else:\n",
        "    bins = [-np.inf, 0, 30, 180, np.inf]\n",
        "    labels = [0, 1, 2, 3]\n",
        "\n",
        "df['expiry_category'] = pd.cut(df['days_to_expiry'], bins=bins, labels=labels, include_lowest=True)\n",
        "\n",
        "# Debug: Check class distribution after creating expiry_category\n",
        "print(\"Class distribution after creating expiry_category:\")\n",
        "print(df['expiry_category'].value_counts())\n",
        "\n",
        "# Step 9: Encode categorical features and clean numeric columns\n",
        "label_encoders = {}\n",
        "for column in df.select_dtypes(include=['object']).columns:\n",
        "    if column not in ['drug id', 'expiry date', 'drug storage location']:\n",
        "        le = LabelEncoder()\n",
        "        df[column] = le.fit_transform(df[column].astype(str))\n",
        "        label_encoders[column] = le\n",
        "\n",
        "# Convert numeric columns to float, handle invalid values\n",
        "numeric_columns = ['current stock quantity', 'average lead time (days)', 'maximum lead time (days)', 'unit price']\n",
        "for col in numeric_columns:\n",
        "    if col in df.columns:\n",
        "        df[col] = pd.to_numeric(df[col], errors='coerce')\n",
        "        df[col] = df[col].fillna(df[col].median())\n",
        "print(\"Number of rows after cleaning numeric columns:\", len(df))"
      ]
    },
    {
      "cell_type": "code",
      "execution_count": null,
      "metadata": {
        "colab": {
          "base_uri": "https://localhost:8080/"
        },
        "id": "ZGzEE-SjJJIG",
        "outputId": "49663cef-5956-43ee-9a91-7a65d28ca984"
      },
      "outputs": [
        {
          "output_type": "stream",
          "name": "stdout",
          "text": [
            "Number of rows after feature engineering: 303\n",
            "Class distribution after feature engineering:\n",
            "expiry_category\n",
            "0    75\n",
            "2    58\n",
            "4    58\n",
            "1    56\n",
            "3    56\n",
            "Name: count, dtype: int64\n"
          ]
        }
      ],
      "source": [
        "df['years_expired'] = -df['days_to_expiry'] / 365.0  # Positive value for expired drugs\n",
        "df['log_years_expired'] = np.log1p(df['years_expired'])  # Log transform to reduce skewness\n",
        "\n",
        "# Interaction features\n",
        "df['stock_lead_interaction'] = df['current stock quantity'] * df['average lead time (days)']\n",
        "df['lead_time_ratio'] = df['average lead time (days)'] / df['maximum lead time (days)'].replace(0, np.nan)\n",
        "\n",
        "# Binary features\n",
        "df['is_stock_high'] = (df['current stock quantity'] > df['current stock quantity'].median()).astype(int)\n",
        "df['is_lead_time_long'] = (df['average lead time (days)'] > df['average lead time (days)'].median()).astype(int)\n",
        "\n",
        "# Fill NaN in new features with median\n",
        "df['lead_time_ratio'] = df['lead_time_ratio'].fillna(df['lead_time_ratio'].median())\n",
        "df['stock_lead_interaction'] = df['stock_lead_interaction'].fillna(df['stock_lead_interaction'].median())\n",
        "print(\"Number of rows after feature engineering:\", len(df))\n",
        "\n",
        "# Debug: Check class distribution after feature engineering\n",
        "print(\"Class distribution after feature engineering:\")\n",
        "print(df['expiry_category'].value_counts())"
      ]
    },
    {
      "cell_type": "code",
      "execution_count": null,
      "metadata": {
        "colab": {
          "base_uri": "https://localhost:8080/"
        },
        "id": "WjGu5vi2IpVK",
        "outputId": "5ed58749-2761-4861-a739-18e3a6b94844"
      },
      "outputs": [
        {
          "output_type": "stream",
          "name": "stdout",
          "text": [
            "Number of NaN values in features:\n",
            "current stock quantity      0\n",
            "units (nos/kg)              0\n",
            "average lead time (days)    0\n",
            "maximum lead time (days)    0\n",
            "unit price                  0\n",
            "years_expired               0\n",
            "log_years_expired           0\n",
            "stock_lead_interaction      0\n",
            "lead_time_ratio             0\n",
            "is_stock_high               0\n",
            "is_lead_time_long           0\n",
            "dtype: int64\n"
          ]
        }
      ],
      "source": [
        "features_to_drop = ['drug id', 'expiry date', 'expiry_category', 'days_to_expiry']\n",
        "if 'drug storage location' in df.columns:\n",
        "    features_to_drop.append('drug storage location')\n",
        "X = df.drop(columns=features_to_drop)\n",
        "y = df['expiry_category']\n",
        "\n",
        "# Debug: Check for NaN in features\n",
        "print(\"Number of NaN values in features:\")\n",
        "print(X.isna().sum())"
      ]
    },
    {
      "cell_type": "code",
      "execution_count": null,
      "metadata": {
        "colab": {
          "base_uri": "https://localhost:8080/"
        },
        "id": "VxLt72KyIpXp",
        "outputId": "f9e5017b-b12a-4b76-9ec4-cfac49270dd5"
      },
      "outputs": [
        {
          "output_type": "stream",
          "name": "stdout",
          "text": [
            "Class distribution after SMOTE:\n",
            "expiry_category\n",
            "0    75\n",
            "1    75\n",
            "2    75\n",
            "3    75\n",
            "4    75\n",
            "Name: count, dtype: int64\n"
          ]
        }
      ],
      "source": [
        "if len(y.unique()) <= 1:\n",
        "    raise ValueError(f\"Target 'y' has only {len(y.unique())} class(es): {y.unique()}. SMOTE requires at least 2 classes. Adjust the dataset or binning logic.\")\n",
        "else:\n",
        "    smote = SMOTE(random_state=42, k_neighbors=5)  # Increased k_neighbors for better sampling\n",
        "    X_resampled, y_resampled = smote.fit_resample(X, y)\n",
        "\n",
        "# Debug: Check class distribution after SMOTE\n",
        "print(\"Class distribution after SMOTE:\")\n",
        "print(pd.Series(y_resampled).value_counts())"
      ]
    },
    {
      "cell_type": "code",
      "execution_count": null,
      "metadata": {
        "id": "FKCGWa0iIpam"
      },
      "outputs": [],
      "source": [
        "scaler = StandardScaler()\n",
        "X_resampled_scaled = scaler.fit_transform(X_resampled)"
      ]
    },
    {
      "cell_type": "code",
      "execution_count": null,
      "metadata": {
        "colab": {
          "base_uri": "https://localhost:8080/"
        },
        "id": "8DN09GUIIpcl",
        "outputId": "dd225587-5220-47c8-9563-2945fba8cecc"
      },
      "outputs": [
        {
          "output_type": "stream",
          "name": "stdout",
          "text": [
            "Selected features: ['current stock quantity', 'average lead time (days)', 'maximum lead time (days)', 'unit price', 'years_expired', 'log_years_expired', 'stock_lead_interaction', 'lead_time_ratio']\n"
          ]
        }
      ],
      "source": [
        "estimator = RandomForestClassifier(n_estimators=100, random_state=42)\n",
        "selector = RFE(estimator, n_features_to_select=8, step=1)\n",
        "X_selected = selector.fit_transform(X_resampled_scaled, y_resampled)\n",
        "\n",
        "# Debug: Check selected features\n",
        "selected_features = X.columns[selector.get_support()].tolist()\n",
        "print(\"Selected features:\", selected_features)"
      ]
    },
    {
      "cell_type": "code",
      "execution_count": null,
      "metadata": {
        "id": "_BJSoV9DIpgF"
      },
      "outputs": [],
      "source": [
        "X_train, X_test, y_train, y_test = train_test_split(\n",
        "    X_selected, y_resampled, test_size=0.2, random_state=42, stratify=y_resampled\n",
        ")"
      ]
    },
    {
      "cell_type": "code",
      "execution_count": null,
      "metadata": {
        "colab": {
          "base_uri": "https://localhost:8080/"
        },
        "id": "bogwyI8SaMjF",
        "outputId": "21b52f81-cbbe-472d-e6c5-d71e298753be"
      },
      "outputs": [
        {
          "output_type": "stream",
          "name": "stdout",
          "text": [
            "Best SVM Parameters: {'kernel': 'linear', 'gamma': 'auto', 'class_weight': 'balanced', 'C': 10}\n",
            "SVM Cross-Validation Accuracy: 0.96 (+/- 0.05)\n"
          ]
        }
      ],
      "source": [
        "svm_params = {\n",
        "    'C': [1, 10, 50, 100, 200],  # Expanded range\n",
        "    'gamma': ['scale', 'auto', 0.001, 0.01, 0.1],  # Expanded range\n",
        "    'kernel': ['rbf', 'linear'],  # Include linear kernel\n",
        "    'class_weight': ['balanced']\n",
        "}\n",
        "svm_grid = RandomizedSearchCV(\n",
        "    SVC(probability=False),\n",
        "    svm_params,\n",
        "    n_iter=10,  # Test 10 combinations\n",
        "    cv=3,\n",
        "    scoring='accuracy',\n",
        "    n_jobs=-1,\n",
        "    random_state=42\n",
        ")\n",
        "svm_grid.fit(X_train, y_train)\n",
        "best_svm_params = svm_grid.best_params_\n",
        "print(\"Best SVM Parameters:\", best_svm_params)\n",
        "\n",
        "# Train the final SVM model with probability=True\n",
        "svm_model = SVC(probability=True, **best_svm_params)\n",
        "svm_model.fit(X_train, y_train)\n",
        "\n",
        "# Cross-validation score for SVM\n",
        "svm_cv_scores = cross_val_score(svm_model, X_train, y_train, cv=3, scoring='accuracy')\n",
        "print(f\"SVM Cross-Validation Accuracy: {svm_cv_scores.mean():.2f} (+/- {svm_cv_scores.std() * 2:.2f})\")"
      ]
    },
    {
      "cell_type": "code",
      "execution_count": null,
      "metadata": {
        "colab": {
          "base_uri": "https://localhost:8080/"
        },
        "id": "z84o42c8aMlK",
        "outputId": "11587fbf-518e-4260-c432-feda760806a0"
      },
      "outputs": [
        {
          "output_type": "stream",
          "name": "stdout",
          "text": [
            "Best Naïve Bayes Parameters: {'var_smoothing': np.float64(1e-12)}\n",
            "Naïve Bayes Cross-Validation Accuracy: 0.92 (+/- 0.08)\n"
          ]
        }
      ],
      "source": [
        "nb_params = {'var_smoothing': np.logspace(-12, -6, num=7)}  # Expanded range\n",
        "nb_grid = RandomizedSearchCV(\n",
        "    GaussianNB(),\n",
        "    nb_params,\n",
        "    n_iter=5,\n",
        "    cv=3,\n",
        "    scoring='accuracy',\n",
        "    n_jobs=-1,\n",
        "    random_state=42\n",
        ")\n",
        "nb_grid.fit(X_train, y_train)\n",
        "nb_model = nb_grid.best_estimator_\n",
        "print(\"Best Naïve Bayes Parameters:\", nb_grid.best_params_)\n",
        "\n",
        "# Cross-validation score for Naïve Bayes\n",
        "nb_cv_scores = cross_val_score(nb_model, X_train, y_train, cv=3, scoring='accuracy')\n",
        "print(f\"Naïve Bayes Cross-Validation Accuracy: {nb_cv_scores.mean():.2f} (+/- {nb_cv_scores.std() * 2:.2f})\")"
      ]
    },
    {
      "cell_type": "code",
      "execution_count": null,
      "metadata": {
        "colab": {
          "base_uri": "https://localhost:8080/"
        },
        "id": "QOj8WkoMaMoe",
        "outputId": "75189f16-eb42-4a0e-da33-cabd2399db7a"
      },
      "outputs": [
        {
          "output_type": "stream",
          "name": "stdout",
          "text": [
            "Requirement already satisfied: xgboost in /usr/local/lib/python3.11/dist-packages (2.1.4)\n",
            "Requirement already satisfied: numpy in /usr/local/lib/python3.11/dist-packages (from xgboost) (2.0.2)\n",
            "Requirement already satisfied: nvidia-nccl-cu12 in /usr/local/lib/python3.11/dist-packages (from xgboost) (2.21.5)\n",
            "Requirement already satisfied: scipy in /usr/local/lib/python3.11/dist-packages (from xgboost) (1.15.2)\n"
          ]
        },
        {
          "output_type": "stream",
          "name": "stderr",
          "text": [
            "/usr/local/lib/python3.11/dist-packages/xgboost/core.py:158: UserWarning: [05:24:01] WARNING: /workspace/src/learner.cc:740: \n",
            "Parameters: { \"use_label_encoder\" } are not used.\n",
            "\n",
            "  warnings.warn(smsg, UserWarning)\n",
            "/usr/local/lib/python3.11/dist-packages/xgboost/core.py:158: UserWarning: [05:24:01] WARNING: /workspace/src/learner.cc:740: \n",
            "Parameters: { \"use_label_encoder\" } are not used.\n",
            "\n",
            "  warnings.warn(smsg, UserWarning)\n"
          ]
        }
      ],
      "source": [
        "!pip install xgboost\n",
        "from xgboost import XGBClassifier # Import the XGBClassifier class\n",
        "\n",
        "y_train_mapped = y_train.astype(int)\n",
        "y_test_mapped = y_test.astype(int)\n",
        "\n",
        "xgb_model = XGBClassifier(\n",
        "    n_estimators=100,\n",
        "    max_depth=5,\n",
        "    learning_rate=0.1,\n",
        "    random_state=42,\n",
        "    use_label_encoder=False,\n",
        "    eval_metric='mlogloss'\n",
        ")\n",
        "xgb_model.fit(X_train, y_train_mapped)\n",
        "\n",
        "ensemble = VotingClassifier(estimators=[\n",
        "    ('svm', svm_model),\n",
        "    ('nb', nb_model),\n",
        "    ('rf', RandomForestClassifier(n_estimators=200, max_depth=10, random_state=42)),\n",
        "    ('xgb', xgb_model)\n",
        "], voting='soft')\n",
        "ensemble.fit(X_train, y_train_mapped)\n",
        "ensemble_preds = ensemble.predict(X_test)\n",
        "ensemble_acc = accuracy_score(y_test_mapped, ensemble_preds)\n",
        "\n",
        "# Individual predictions\n",
        "svm_preds = svm_model.predict(X_test)\n",
        "svm_accuracy = accuracy_score(y_test, svm_preds)\n",
        "nb_preds = nb_model.predict(X_test)\n",
        "nb_accuracy = accuracy_score(y_test, nb_preds)"
      ]
    },
    {
      "cell_type": "code",
      "execution_count": null,
      "metadata": {
        "colab": {
          "base_uri": "https://localhost:8080/"
        },
        "id": "JQ3xg2jCbyOU",
        "outputId": "cb0f8a3e-4696-489e-a01b-708e5fbf1984"
      },
      "outputs": [
        {
          "output_type": "stream",
          "name": "stdout",
          "text": [
            "SVM Accuracy: 96.00%\n",
            "              precision    recall  f1-score   support\n",
            "\n",
            "           0       0.94      1.00      0.97        15\n",
            "           1       0.93      0.93      0.93        15\n",
            "           2       1.00      0.93      0.97        15\n",
            "           3       0.94      1.00      0.97        15\n",
            "           4       1.00      0.93      0.97        15\n",
            "\n",
            "    accuracy                           0.96        75\n",
            "   macro avg       0.96      0.96      0.96        75\n",
            "weighted avg       0.96      0.96      0.96        75\n",
            "\n",
            "Naïve Bayes Accuracy: 86.67%\n",
            "              precision    recall  f1-score   support\n",
            "\n",
            "           0       0.93      0.93      0.93        15\n",
            "           1       0.86      0.80      0.83        15\n",
            "           2       0.74      0.93      0.82        15\n",
            "           3       0.92      0.73      0.81        15\n",
            "           4       0.93      0.93      0.93        15\n",
            "\n",
            "    accuracy                           0.87        75\n",
            "   macro avg       0.88      0.87      0.87        75\n",
            "weighted avg       0.88      0.87      0.87        75\n",
            "\n",
            "Ensemble Accuracy: 97.33%\n",
            "              precision    recall  f1-score   support\n",
            "\n",
            "           0       0.94      1.00      0.97        15\n",
            "           1       1.00      0.93      0.97        15\n",
            "           2       1.00      1.00      1.00        15\n",
            "           3       0.94      1.00      0.97        15\n",
            "           4       1.00      0.93      0.97        15\n",
            "\n",
            "    accuracy                           0.97        75\n",
            "   macro avg       0.97      0.97      0.97        75\n",
            "weighted avg       0.97      0.97      0.97        75\n",
            "\n"
          ]
        }
      ],
      "source": [
        "print(f\"SVM Accuracy: {svm_accuracy * 100:.2f}%\")\n",
        "print(classification_report(y_test, svm_preds))\n",
        "print(f\"Naïve Bayes Accuracy: {nb_accuracy * 100:.2f}%\")\n",
        "print(classification_report(y_test, nb_preds))\n",
        "print(f\"Ensemble Accuracy: {ensemble_acc * 100:.2f}%\")\n",
        "print(classification_report(y_test, ensemble_preds))"
      ]
    },
    {
      "cell_type": "code",
      "execution_count": null,
      "metadata": {
        "colab": {
          "base_uri": "https://localhost:8080/",
          "height": 472
        },
        "id": "tU3g2IG7byU1",
        "outputId": "e8ad456e-f967-457b-a1f9-37f92f891a22"
      },
      "outputs": [
        {
          "output_type": "display_data",
          "data": {
            "text/plain": [
              "<Figure size 640x480 with 1 Axes>"
            ],
            "image/png": "[encoded data removed]"
          },
          "metadata": {}
        }
      ],
      "source": [
        "plt.bar(['SVM', 'Naïve Bayes', 'Ensemble'], [svm_accuracy, nb_accuracy, ensemble_acc], color=['blue', 'green', 'orange'])\n",
        "plt.xlabel('Model')\n",
        "plt.ylabel('Accuracy')\n",
        "plt.title('Model Accuracy Comparison')\n",
        "plt.ylim(0, 1)\n",
        "plt.show()"
      ]
    },
    {
      "cell_type": "code",
      "execution_count": null,
      "metadata": {
        "colab": {
          "base_uri": "https://localhost:8080/"
        },
        "id": "LP1E4RujcB-I",
        "outputId": "6c6796c3-34fe-4175-acb1-417ab01464d5"
      },
      "outputs": [
        {
          "output_type": "stream",
          "name": "stdout",
          "text": [
            "DRUG ID: 1009AA | Expiry Date: 2010-02-05 | STORAGE LOCATION: JAI BALAJI DISTRIBUTORS, NEW MARKET SHOP NO.**, GOLDEN HEIGHTS BUILDING,CHATRIBARI ROAD, KAMRUP, GUWAHATI  , Guwahati, Assam, 781001\n",
            "⚠️ The drug is expired! Immediate damage control is required.\n",
            "DRUG ID: 1077CA | Expiry Date: 2010-02-12 | STORAGE LOCATION: SUNDRAM FASTENERS LIMITED B ** SIPCOT INDUSTRIAL COMPLEX GUMMIDIPOONDI  , Gummudipoondi, Tamil Nadu, 601201\n",
            "⚠️ The drug is expired! Immediate damage control is required.\n",
            "DRUG ID: 1083AA | Expiry Date: 2010-02-19 | STORAGE LOCATION: Bakul-*, Shardashish Township, Torrent Power Limited, Off NH*, Kamrej, Surat,Gay pagla  , Kim, Gujarat, 394155\n",
            "⚠️ The drug is expired! Immediate damage control is required.\n",
            "DRUG ID: 1116CA | Expiry Date: 2010-02-26 | STORAGE LOCATION: Sonkar Bhawan, Near Ashok Kirana Store, Infront of Mohan aata chakki, Lakkhe nagar  , Raipur, Chhattisgarh, 492001\n",
            "⚠️ The drug is expired! Immediate damage control is required.\n",
            "DRUG ID: 1126CA | Expiry Date: 2010-03-05 | STORAGE LOCATION: jambli \n",
            " maida factory near jambli  , jambli, Maharashtra, 416121\n",
            "⚠️ The drug is expired! Immediate damage control is required.\n",
            "DRUG ID: 1130AA | Expiry Date: 2010-03-12 | STORAGE LOCATION: . , Prabhat Jarda Factory Road,Sikandarpur , Radha Devi Girls High School ,  ,  , MUZAFFARPUR, BH, 842001\n",
            "⚠️ The drug is expired! Immediate damage control is required.\n",
            "DRUG ID: 1145BA | Expiry Date: 2010-03-19 | STORAGE LOCATION: AYODHYA DRUG WAREHOUSE KUSHMAHA ROAD NEAR CMO OFFICE DARSHAN NAGAR  , Faizabad, Uttar Pradesh, 224001\n",
            "⚠️ The drug is expired! Immediate damage control is required.\n",
            "DRUG ID: 1161AA | Expiry Date: 2010-03-26 | STORAGE LOCATION: GODOWN NO.* SURVEY NO.*** MU SANATHAL TAL SANAND  , Ahmedabad, Gujarat, 382210\n",
            "⚠️ The drug is expired! Immediate damage control is required.\n",
            "DRUG ID: 1163CA | Expiry Date: 2010-04-02 | STORAGE LOCATION: HERBALIFE INTERNATIONAL INDIA, PVT. LTD.   C/O $$$$ $$$$  **/*-*, MILL ROAD , OPP : SBI BANK, AISHBAG LUCKNOW  , Lucknow, Uttar Pradesh, 226004\n",
            "⚠️ The drug is expired! Immediate damage control is required.\n",
            "DRUG ID: 1193BA | Expiry Date: 2010-04-09 | STORAGE LOCATION: GOPALPUR WAREHOUSING CMPLX BASAI GOPALPUR , KHASRA NO.** QILA NO.** , GURGAON  , Gurgaon, Haryana, 122001\n",
            "⚠️ The drug is expired! Immediate damage control is required.\n",
            "DRUG ID: 1196AA | Expiry Date: 2010-04-16 | STORAGE LOCATION: MAITY PARA DHAKA PETROL PUMP NH * DANKUNI KOLKATA  , Dankuni, West Bengal, 712311\n",
            "⚠️ The drug is expired! Immediate damage control is required.\n",
            "DRUG ID: 1206BA | Expiry Date: 2010-04-23 | STORAGE LOCATION: House \n",
            " Padmashali Steet  , Jammikunta, Telangana, 505122\n",
            "⚠️ The drug is expired! Immediate damage control is required.\n",
            "DRUG ID: 1214CA | Expiry Date: 2010-04-30 | STORAGE LOCATION: S/O $$$$ $$$$ rly stnCHIRALA(POMDL) PRAKASAM(DT) ANDHRA PRADESH INDIA  near rly stn  , Prakasam, Andhra Pradesh, 523155\n",
            "⚠️ The drug is expired! Immediate damage control is required.\n",
            "DRUG ID: 1224AA | Expiry Date: 2010-05-07 | STORAGE LOCATION: ***  Ramnager bagha  Ramnager  , Kheri District, Uttar Pradesh, 262724\n",
            "⚠️ The drug is expired! Immediate damage control is required.\n",
            "DRUG ID: 1234BA | Expiry Date: 2010-05-14 | STORAGE LOCATION: * Behind Ishvar Bhuvan,  , Ahmedabad, Gujarat, 380009\n",
            "⚠️ The drug is expired! Immediate damage control is required.\n",
            "DRUG ID: 1244AA | Expiry Date: 2010-05-21 | STORAGE LOCATION: Roha Roth khurd \n",
            " Jm rathi english school Hotel Morya  , roha, Maharashtra, 402109\n",
            "⚠️ The drug is expired! Immediate damage control is required.\n",
            "DRUG ID: 1255CA | Expiry Date: 2010-05-28 | STORAGE LOCATION: {*} **  v mathu mathi \n",
            " melur  naithaan patti  , madurai, Tamil Nadu, 625109\n",
            "⚠️ The drug is expired! Immediate damage control is required.\n",
            "DRUG ID: 1265CA | Expiry Date: 2010-06-04 | STORAGE LOCATION: {**/*,} amarjothi pon nagar * st \n",
            " Maniyakarapalayam road, rakkiyapalayam privu,kangayam road  , tirupur, Tamil Nadu, 641604\n",
            "⚠️ The drug is expired! Immediate damage control is required.\n",
            "DRUG ID: 1266CA | Expiry Date: 2010-06-11 | STORAGE LOCATION: {*/***} * s.knagar* velagoundanur kattuvalavu kottai mariyamman panjayat \n",
            " pachanampatti ganapathy super market back side salem(dt)omalur(tk)  , salem, Tamil Nadu, 636455\n",
            "⚠️ The drug is expired! Immediate damage control is required.\n",
            "DRUG ID: 1281BA | Expiry Date: 2010-06-18 | STORAGE LOCATION: shriman pur \n",
            " shriman pur  , shiptai, West Bengal, 712308\n",
            "⚠️ The drug is expired! Immediate damage control is required.\n",
            "DRUG ID: 1283CA | Expiry Date: 2010-06-25 | STORAGE LOCATION: * -** kummari bazar  Vemulaplly  Near by boddu rai  , Nalgonda District, Telangana, 508217\n",
            "⚠️ The drug is expired! Immediate damage control is required.\n",
            "DRUG ID: 1295CA | Expiry Date: 2010-07-02 | STORAGE LOCATION: Katr primary school *,Karta  , Pratapgarh-Up, Uttar Pradesh, 230131\n",
            "⚠️ The drug is expired! Immediate damage control is required.\n",
            "DRUG ID: 1296CA | Expiry Date: 2010-07-09 | STORAGE LOCATION: Plot No G, Survey No.**, Hissa No **(part), CTS No ****/*A at village Marol, Taluka Andheri Andheri(east) Mumbai   , Mumbai, 400059\n",
            "⚠️ The drug is expired! Immediate damage control is required.\n",
            "DRUG ID: 1308BA | Expiry Date: 2010-07-16 | STORAGE LOCATION: block no {*,} plot no ** \n",
            " priadarshini parisar west  , bhilai, Chhattisgarh, 490020\n",
            "⚠️ The drug is expired! Immediate damage control is required.\n",
            "DRUG ID: 1315BA | Expiry Date: 2010-07-23 | STORAGE LOCATION: Near hanuman temple, Panchayat road  At mantagi  mini tank  , Hangal, Karnataka, 581104\n",
            "⚠️ The drug is expired! Immediate damage control is required.\n",
            "DRUG ID: 1317BA | Expiry Date: 2010-07-30 | STORAGE LOCATION: {**} * **  Gorusuvaristreet \n",
            " Ramakrishnaraopeta  , Kakinada, Andhra Pradesh, 533001\n",
            "⚠️ The drug is expired! Immediate damage control is required.\n",
            "DRUG ID: 1317CA | Expiry Date: 2010-08-06 | STORAGE LOCATION: hesarahalli \n",
            " b h road  , c n halli, Karnataka, 572226\n",
            "⚠️ The drug is expired! Immediate damage control is required.\n",
            "DRUG ID: 1321BA | Expiry Date: 2010-08-13 | STORAGE LOCATION: pipardeura ward no {*} Gandhi nagar mharajganj \n",
            " gandhi nagar ward no *  , Maharajganj, Uttar Pradesh, 273303\n",
            "⚠️ The drug is expired! Immediate damage control is required.\n",
            "DRUG ID: 1325AA | Expiry Date: 2010-08-20 | STORAGE LOCATION: ***/* Purbachal Main Road, Flat No.B*,*rd Floor  PURBANGAN  , KOLKATA, WEST BENGAL, 700078\n",
            "⚠️ The drug is expired! Immediate damage control is required.\n",
            "DRUG ID: 2227AA | Expiry Date: 2010-02-05 | STORAGE LOCATION: PMGP colony BILDING no **  Room No *** PMGP Colony Bldg No**/*** mankhurd, Mumbai, Near anvi clinic  , Mumbai, Maharashtra, 400043\n",
            "⚠️ The drug is expired! Immediate damage control is required.\n",
            "DRUG ID: 2229AA | Expiry Date: 2010-02-12 | STORAGE LOCATION: A/***  Nagarjuna sagar .pylon colony.near sai baba temple  , Nagarjuna Sagar, Telangana, 508202\n",
            "⚠️ The drug is expired! Immediate damage control is required.\n",
            "DRUG ID: 2229CA | Expiry Date: 2010-02-19 | STORAGE LOCATION: vill dhanow post gijna p. s jamhor  d Aurangabad \n",
            " road  jamhor to parsaiya  , jamhor, Bihar, 824121\n",
            "⚠️ The drug is expired! Immediate damage control is required.\n",
            "DRUG ID: 2234AA | Expiry Date: 2010-02-26 | STORAGE LOCATION: kartah/govt.school \n",
            " govt.middle school kartah  , sainj, Himachal Pradesh, 175134\n",
            "⚠️ The drug is expired! Immediate damage control is required.\n",
            "DRUG ID: 2236CA | Expiry Date: 2010-03-05 | STORAGE LOCATION: Arada  Tirtol police station, Tirtol  , CUTTACK, Odisha, 754160\n",
            "⚠️ The drug is expired! Immediate damage control is required.\n",
            "DRUG ID: 2255CA | Expiry Date: 2010-03-12 | STORAGE LOCATION: SURVEY NO:***,*** OPP:SAI GEETHA ASHRAMAM,DEVARAYAJMAL,SHAMIRPET MANDAL,MEDCHAL DIST  , Medchal, Telangana, 500078\n",
            "⚠️ The drug is expired! Immediate damage control is required.\n",
            "DRUG ID: 2265BA | Expiry Date: 2010-03-19 | STORAGE LOCATION: Village-Burla House no *R***  Post Burla Sambalpur, ODISHA   Landmark Dr Colony,  , Sambalpur, Odisha, 768017\n",
            "⚠️ The drug is expired! Immediate damage control is required.\n",
            "DRUG ID: 2267CA | Expiry Date: 2010-03-26 | STORAGE LOCATION: Sagolband Bijoy Govinda Thangapat Mapal  Imphal West  Manipur  Sagolband Bijoy Govinda Thangapat Mapal  Imphal West  Manipur   , Imphal West, MANIPUR, 795001\n",
            "⚠️ The drug is expired! Immediate damage control is required.\n",
            "DRUG ID: 2277AA | Expiry Date: 2010-04-02 | STORAGE LOCATION: {#***} Harish dental clinic hospital \n",
            " G.p rajarathamma road  , Bangalore, Karnataka, 571111\n",
            "⚠️ The drug is expired! Immediate damage control is required.\n",
            "DRUG ID: 2291AA | Expiry Date: 2010-04-09 | STORAGE LOCATION: BHAGYARAJU DHARNASI KONDAVEEDU; *-**, NEAR BUS STAND, OPPOSITE WATER TANK,SC COLONY GUNTUR ANDHRA PRADESH, Pin- Ph No:- ****  , 522529\n",
            "⚠️ The drug is expired! Immediate damage control is required.\n",
            "DRUG ID: 2293AA | Expiry Date: 2010-04-16 | STORAGE LOCATION: mk house, water tank \n",
            " purameri  , vadakara, Kerala, 673503\n",
            "⚠️ The drug is expired! Immediate damage control is required.\n",
            "DRUG ID: 2315BA | Expiry Date: 2010-04-23 | STORAGE LOCATION: At.po vardhari ta.lunawada mahisager  Lunawada Subdistrict  , Mahisagar District, Gujarat, 388270\n",
            "⚠️ The drug is expired! Immediate damage control is required.\n",
            "DRUG ID: 2317CA | Expiry Date: 2010-04-30 | STORAGE LOCATION: L-***/** Near Shani Bazar,  Sangam vihar DL India  , Delhi, Delhi, 110062\n",
            "⚠️ The drug is expired! Immediate damage control is required.\n",
            "DRUG ID: 2326CA | Expiry Date: 2010-05-07 | STORAGE LOCATION: Industrial Housing Colony \n",
            " Housing Colony, College Road  , Tinsukia, Assam, 786125\n",
            "⚠️ The drug is expired! Immediate damage control is required.\n",
            "DRUG ID: 2331CA | Expiry Date: 2010-05-14 | STORAGE LOCATION: *A GROUND FLOOR BWSSB QUARTERS,**TH A CROSS *TH MAIN ROAD,JAYANAGARA *TH BLOCK BENGALURU  , Bengaluru, Karnataka, 560041\n",
            "⚠️ The drug is expired! Immediate damage control is required.\n",
            "DRUG ID: 2336BA | Expiry Date: 2010-05-21 | STORAGE LOCATION: Dr.deshmukh lane ganesh krupa bldg *th floor *** r oom no near vproad police station girgaon, Near vp  , Mumbai, Maharashtra, 400004\n",
            "⚠️ The drug is expired! Immediate damage control is required.\n",
            "DRUG ID: 2337CA | Expiry Date: 2010-05-28 | STORAGE LOCATION: {*/*B.} \n",
            " Amman colony.zamin kalayapuram.  , pollachi, Tamil Nadu, 642110\n",
            "⚠️ The drug is expired! Immediate damage control is required.\n",
            "DRUG ID: 2342CA | Expiry Date: 2010-06-04 | STORAGE LOCATION: prince net cafe \n",
            " prince net cafe near s. s. s. boys tapa  , tapa, Punjab, 148108\n",
            "⚠️ The drug is expired! Immediate damage control is required.\n",
            "DRUG ID: 2348BA | Expiry Date: 2010-06-11 | STORAGE LOCATION: {*****} \n",
            " rupan gudi road ulgama temple Harini mobile service center  , Ballari, Karnataka, 583101\n",
            "⚠️ The drug is expired! Immediate damage control is required.\n",
            "DRUG ID: 2359CA | Expiry Date: 2010-06-18 | STORAGE LOCATION: {#**,} Blick * JAINS ADWITIYA APPARTMENTS \n",
            " KSR NAGAR , JEEVARATHINAM ST,  AMBATTUR  , CHENNAI, Tamil Nadu, 600053\n",
            "⚠️ The drug is expired! Immediate damage control is required.\n",
            "DRUG ID: 2365AA | Expiry Date: 2010-06-25 | STORAGE LOCATION: durga pur masjid \n",
            " durga pur masjid  , diga, West Bengal, 721446\n",
            "⚠️ The drug is expired! Immediate damage control is required.\n",
            "DRUG ID: 2371CA | Expiry Date: 2010-07-02 | STORAGE LOCATION: Post Office  PURUSHOTTAPALLI,Postal Taluk - NIDADAVOLE MANDALAM,District  WEST GODAVARI State  ANDHRA PRADESH Pin Code  ,  , West Godavari, Andhra Pradesh, 534302\n",
            "⚠️ The drug is expired! Immediate damage control is required.\n",
            "DRUG ID: 2391CA | Expiry Date: 2010-07-09 | STORAGE LOCATION: *rd Cross , Misba  Nagar , Near Golden beakery, MSK Mill ,  ,  , GULBARGA, KAR, 585103\n",
            "⚠️ The drug is expired! Immediate damage control is required.\n",
            "DRUG ID: 2396CA | Expiry Date: 2010-07-16 | STORAGE LOCATION: After sales pdc  indospace skcl industrail park panruti b village kancheepuram TAMIL NADU   , Sriperumbudur, Tamil Nadu, 631604\n",
            "⚠️ The drug is expired! Immediate damage control is required.\n",
            "DRUG ID: 2418CA | Expiry Date: 2010-07-23 | STORAGE LOCATION: Gumla Nagar sector {**E} bokaro jharkhand \n",
            "  gumla Nagar  sector **E  Bokaro jharkhand  , Bokaro, Jharkhand, 827012\n",
            "⚠️ The drug is expired! Immediate damage control is required.\n",
            "DRUG ID: 2422BA | Expiry Date: 2010-07-30 | STORAGE LOCATION: #** Srinivasa Industrial Estate, Konanakunte, Kanakapura Road, Bangalore  , Bangalore, Karnataka, 560062\n",
            "⚠️ The drug is expired! Immediate damage control is required.\n",
            "DRUG ID: 2429BA | Expiry Date: 2010-08-06 | STORAGE LOCATION: Aramex_Gateway_DEL  , Delhi, Delhi, 999993\n",
            "⚠️ The drug is expired! Immediate damage control is required.\n",
            "DRUG ID: 2449CA | Expiry Date: 2010-08-13 | STORAGE LOCATION: Ho no {*} * ***/*/*, plot no  ***, ayyappa nagar colony, \n",
            " lane **, Surya nagar, chandra nagar colony, bolaram, ranga raddi  , hyderabad, Andhra Pradesh, 500010\n",
            "⚠️ The drug is expired! Immediate damage control is required.\n",
            "DRUG ID: 2458CA | Expiry Date: 2010-08-20 | STORAGE LOCATION: *** , Sector ** GMCH Chandigarh , gate * intern hostel phase * ,  ,  , CHANDIGARH, CD, 160030\n",
            "⚠️ The drug is expired! Immediate damage control is required.\n",
            "DRUG ID: 3448CA | Expiry Date: 2010-02-05 | STORAGE LOCATION: Gouri Nagar, Main Lane  Near Gouri Garden Bhubaneswar  , Khorda, ODISHA, 751002\n",
            "⚠️ The drug is expired! Immediate damage control is required.\n",
            "DRUG ID: 3461CA | Expiry Date: 2010-02-12 | STORAGE LOCATION: No **/**,**th Street ,*nd Floor,Padi Pudhu Nagar ,Anna Nagar West Ext  , CHENNAI, TAMIL NADU, 600101\n",
            "⚠️ The drug is expired! Immediate damage control is required.\n",
            "DRUG ID: 3462AA | Expiry Date: 2010-02-19 | STORAGE LOCATION: **, ANUJ KUMAR THANA ROAD KHAGARIA  , Khagaria, Bihar, 851204\n",
            "⚠️ The drug is expired! Immediate damage control is required.\n",
            "DRUG ID: 3494AA | Expiry Date: 2010-02-26 | STORAGE LOCATION: {**} F Pandyan compound \n",
            " Jothinagar *rd street  , Kovilpatti, Tamil Nadu, 628501\n",
            "⚠️ The drug is expired! Immediate damage control is required.\n",
            "DRUG ID: 3495CA | Expiry Date: 2010-03-05 | STORAGE LOCATION: saroun \n",
            " asarganj narayanpur saroun..saroun school ke paas  , Munger, Bihar, 813201\n",
            "⚠️ The drug is expired! Immediate damage control is required.\n",
            "DRUG ID: 3502BA | Expiry Date: 2010-03-12 | STORAGE LOCATION: purani Sahar,shanti Niketan,hira chandsi gali \n",
            " purani sahar  , Barbigha, Bihar, 811101\n",
            "⚠️ The drug is expired! Immediate damage control is required.\n",
            "DRUG ID: 3512AA | Expiry Date: 2010-03-19 | STORAGE LOCATION: C/O $$$$ $$$$ PARK VILL KHERI THSIL RAJPURA PUNJAB  , Rajpura, Punjab, 140417\n",
            "⚠️ The drug is expired! Immediate damage control is required.\n",
            "DRUG ID: 3533CA | Expiry Date: 2010-03-26 | STORAGE LOCATION: bhagat singh chounk \n",
            " sampla Begumpur  , Nakur, Uttar Pradesh, 247342\n",
            "⚠️ The drug is expired! Immediate damage control is required.\n",
            "DRUG ID: 3551CA | Expiry Date: 2010-04-02 | STORAGE LOCATION: old purulia road,,*rd floor,zakir nagar mango,road no- **, chand complex  , East Singhbhum, Jharkhand, 831012\n",
            "⚠️ The drug is expired! Immediate damage control is required.\n",
            "DRUG ID: 3556AA | Expiry Date: 2010-04-09 | STORAGE LOCATION: ****, c- block, ranjit avenue,NA,N/A  , Amritsar, Punjab, 143001\n",
            "⚠️ The drug is expired! Immediate damage control is required.\n",
            "DRUG ID: 3570CA | Expiry Date: 2010-04-16 | STORAGE LOCATION: Mullai nagar kakkarakavu temple road kozhijampara, Olekkengal house  , Palakkad, Kerala, 678555\n",
            "⚠️ The drug is expired! Immediate damage control is required.\n",
            "DRUG ID: 3576BA | Expiry Date: 2010-04-23 | STORAGE LOCATION: {*} **house no \n",
            " pochannapeta  , ganagom, Andhra Pradesh, 506221\n",
            "⚠️ The drug is expired! Immediate damage control is required.\n",
            "DRUG ID: 3579CA | Expiry Date: 2010-04-30 | STORAGE LOCATION: kamalmahal nirapukonam oorutambalam po \n",
            " oorutambalam  , trivandrum, Kerala, 695507\n",
            "⚠️ The drug is expired! Immediate damage control is required.\n",
            "DRUG ID: 3590BA | Expiry Date: 2010-05-07 | STORAGE LOCATION: **/**** suryadarshan chs,opp ambedkar garden kurla nehru nagar East,  , Mumbai, Maharashtra, 400024\n",
            "⚠️ The drug is expired! Immediate damage control is required.\n",
            "DRUG ID: 3610AA | Expiry Date: 2010-05-14 | STORAGE LOCATION: Jengoni ,Jengoni,Jengoni tiniali   None  , Nagaon, Assam, 782122\n",
            "⚠️ The drug is expired! Immediate damage control is required.\n",
            "DRUG ID: 3616CA | Expiry Date: 2010-05-21 | STORAGE LOCATION: kiran gorh house singla cherra \n",
            " Dullavcherra  , Dullavcherra, Assam, 788736\n",
            "⚠️ The drug is expired! Immediate damage control is required.\n",
            "DRUG ID: 3619CA | Expiry Date: 2010-05-28 | STORAGE LOCATION: *nd Floor, House No*, *th Cross, *st Main Road,Gururaja Layout, Doddanekundi  , BENGALURU, KARNATAKA, 560037\n",
            "⚠️ The drug is expired! Immediate damage control is required.\n"
          ]
        }
      ],
      "source": [
        "if 'drug storage location' in df.columns:\n",
        "    expired_drugs = df[df['expiry_category'] == 0][['drug id', 'expiry date', 'drug storage location']]\n",
        "    for _, row in expired_drugs.iterrows():\n",
        "        print(f\"DRUG ID: {row['drug id']} | Expiry Date: {row['expiry date'].date()} | STORAGE LOCATION: {row['drug storage location']}\")\n",
        "        print(\"⚠️ The drug is expired! Immediate damage control is required.\")\n",
        "else:\n",
        "    expired_drugs = df[df['expiry_category'] == 0][['drug id', 'expiry date']]\n",
        "    for _, row in expired_drugs.iterrows():\n",
        "        print(f\"DRUG ID: {row['drug id']} | Expiry Date: {row['expiry date'].date()}\")\n",
        "        print(\"⚠️ The drug is expired! Immediate damage control is required.\")"
      ]
    }
  ],
  "metadata": {
    "colab": {
      "provenance": []
    },
    "kernelspec": {
      "display_name": "Python 3",
      "name": "python3"
    },
    "language_info": {
      "name": "python"
    }
  },
  "nbformat": 4,
  "nbformat_minor": 0
}