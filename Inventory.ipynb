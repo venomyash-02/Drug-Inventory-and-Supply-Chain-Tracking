{
  "nbformat": 4,
  "nbformat_minor": 0,
  "metadata": {
    "colab": {
      "provenance": []
    },
    "kernelspec": {
      "name": "python3",
      "display_name": "Python 3"
    },
    "language_info": {
      "name": "python"
    }
  },
  "cells": [
    {
      "cell_type": "code",
      "execution_count": null,
      "metadata": {
        "id": "So5LAmqSgbMK"
      },
      "outputs": [],
      "source": [
        "from google.colab import files\n",
        "import pandas as pd\n"
      ]
    },
    {
      "cell_type": "code",
      "source": [
        "print(\"Please upload your drug inventory Excel file:\")\n",
        "uploaded = files.upload()"
      ],
      "metadata": {
        "colab": {
          "base_uri": "https://localhost:8080/",
          "height": 90
        },
        "id": "HvGLEF4gi8m3",
        "outputId": "7608d186-47ff-45ff-fa2b-00095704090b"
      },
      "execution_count": null,
      "outputs": [
        {
          "output_type": "stream",
          "name": "stdout",
          "text": [
            "Please upload your drug inventory Excel file:\n"
          ]
        },
        {
          "output_type": "display_data",
          "data": {
            "text/plain": [
              "<IPython.core.display.HTML object>"
            ],
            "text/html": [
              "\n",
              "     <input type=\"file\" id=\"files-b3e15a46-44c5-4f8b-86ed-0557c969697e\" name=\"files[]\" multiple disabled\n",
              "        style=\"border:none\" />\n",
              "     <output id=\"result-b3e15a46-44c5-4f8b-86ed-0557c969697e\">\n",
              "      Upload widget is only available when the cell has been executed in the\n",
              "      current browser session. Please rerun this cell to enable.\n",
              "      </output>\n",
              "      <script>// Copyright 2017 Google LLC\n",
              "//\n",
              "// Licensed under the Apache License, Version 2.0 (the \"License\");\n",
              "// you may not use this file except in compliance with the License.\n",
              "// You may obtain a copy of the License at\n",
              "//\n",
              "//      http://www.apache.org/licenses/LICENSE-2.0\n",
              "//\n",
              "// Unless required by applicable law or agreed to in writing, software\n",
              "// distributed under the License is distributed on an \"AS IS\" BASIS,\n",
              "// WITHOUT WARRANTIES OR CONDITIONS OF ANY KIND, either express or implied.\n",
              "// See the License for the specific language governing permissions and\n",
              "// limitations under the License.\n",
              "\n",
              "/**\n",
              " * @fileoverview Helpers for google.colab Python module.\n",
              " */\n",
              "(function(scope) {\n",
              "function span(text, styleAttributes = {}) {\n",
              "  const element = document.createElement('span');\n",
              "  element.textContent = text;\n",
              "  for (const key of Object.keys(styleAttributes)) {\n",
              "    element.style[key] = styleAttributes[key];\n",
              "  }\n",
              "  return element;\n",
              "}\n",
              "\n",
              "// Max number of bytes which will be uploaded at a time.\n",
              "const MAX_PAYLOAD_SIZE = 100 * 1024;\n",
              "\n",
              "function _uploadFiles(inputId, outputId) {\n",
              "  const steps = uploadFilesStep(inputId, outputId);\n",
              "  const outputElement = document.getElementById(outputId);\n",
              "  // Cache steps on the outputElement to make it available for the next call\n",
              "  // to uploadFilesContinue from Python.\n",
              "  outputElement.steps = steps;\n",
              "\n",
              "  return _uploadFilesContinue(outputId);\n",
              "}\n",
              "\n",
              "// This is roughly an async generator (not supported in the browser yet),\n",
              "// where there are multiple asynchronous steps and the Python side is going\n",
              "// to poll for completion of each step.\n",
              "// This uses a Promise to block the python side on completion of each step,\n",
              "// then passes the result of the previous step as the input to the next step.\n",
              "function _uploadFilesContinue(outputId) {\n",
              "  const outputElement = document.getElementById(outputId);\n",
              "  const steps = outputElement.steps;\n",
              "\n",
              "  const next = steps.next(outputElement.lastPromiseValue);\n",
              "  return Promise.resolve(next.value.promise).then((value) => {\n",
              "    // Cache the last promise value to make it available to the next\n",
              "    // step of the generator.\n",
              "    outputElement.lastPromiseValue = value;\n",
              "    return next.value.response;\n",
              "  });\n",
              "}\n",
              "\n",
              "/**\n",
              " * Generator function which is called between each async step of the upload\n",
              " * process.\n",
              " * @param {string} inputId Element ID of the input file picker element.\n",
              " * @param {string} outputId Element ID of the output display.\n",
              " * @return {!Iterable<!Object>} Iterable of next steps.\n",
              " */\n",
              "function* uploadFilesStep(inputId, outputId) {\n",
              "  const inputElement = document.getElementById(inputId);\n",
              "  inputElement.disabled = false;\n",
              "\n",
              "  const outputElement = document.getElementById(outputId);\n",
              "  outputElement.innerHTML = '';\n",
              "\n",
              "  const pickedPromise = new Promise((resolve) => {\n",
              "    inputElement.addEventListener('change', (e) => {\n",
              "      resolve(e.target.files);\n",
              "    });\n",
              "  });\n",
              "\n",
              "  const cancel = document.createElement('button');\n",
              "  inputElement.parentElement.appendChild(cancel);\n",
              "  cancel.textContent = 'Cancel upload';\n",
              "  const cancelPromise = new Promise((resolve) => {\n",
              "    cancel.onclick = () => {\n",
              "      resolve(null);\n",
              "    };\n",
              "  });\n",
              "\n",
              "  // Wait for the user to pick the files.\n",
              "  const files = yield {\n",
              "    promise: Promise.race([pickedPromise, cancelPromise]),\n",
              "    response: {\n",
              "      action: 'starting',\n",
              "    }\n",
              "  };\n",
              "\n",
              "  cancel.remove();\n",
              "\n",
              "  // Disable the input element since further picks are not allowed.\n",
              "  inputElement.disabled = true;\n",
              "\n",
              "  if (!files) {\n",
              "    return {\n",
              "      response: {\n",
              "        action: 'complete',\n",
              "      }\n",
              "    };\n",
              "  }\n",
              "\n",
              "  for (const file of files) {\n",
              "    const li = document.createElement('li');\n",
              "    li.append(span(file.name, {fontWeight: 'bold'}));\n",
              "    li.append(span(\n",
              "        `(${file.type || 'n/a'}) - ${file.size} bytes, ` +\n",
              "        `last modified: ${\n",
              "            file.lastModifiedDate ? file.lastModifiedDate.toLocaleDateString() :\n",
              "                                    'n/a'} - `));\n",
              "    const percent = span('0% done');\n",
              "    li.appendChild(percent);\n",
              "\n",
              "    outputElement.appendChild(li);\n",
              "\n",
              "    const fileDataPromise = new Promise((resolve) => {\n",
              "      const reader = new FileReader();\n",
              "      reader.onload = (e) => {\n",
              "        resolve(e.target.result);\n",
              "      };\n",
              "      reader.readAsArrayBuffer(file);\n",
              "    });\n",
              "    // Wait for the data to be ready.\n",
              "    let fileData = yield {\n",
              "      promise: fileDataPromise,\n",
              "      response: {\n",
              "        action: 'continue',\n",
              "      }\n",
              "    };\n",
              "\n",
              "    // Use a chunked sending to avoid message size limits. See b/62115660.\n",
              "    let position = 0;\n",
              "    do {\n",
              "      const length = Math.min(fileData.byteLength - position, MAX_PAYLOAD_SIZE);\n",
              "      const chunk = new Uint8Array(fileData, position, length);\n",
              "      position += length;\n",
              "\n",
              "      const base64 = btoa(String.fromCharCode.apply(null, chunk));\n",
              "      yield {\n",
              "        response: {\n",
              "          action: 'append',\n",
              "          file: file.name,\n",
              "          data: base64,\n",
              "        },\n",
              "      };\n",
              "\n",
              "      let percentDone = fileData.byteLength === 0 ?\n",
              "          100 :\n",
              "          Math.round((position / fileData.byteLength) * 100);\n",
              "      percent.textContent = `${percentDone}% done`;\n",
              "\n",
              "    } while (position < fileData.byteLength);\n",
              "  }\n",
              "\n",
              "  // All done.\n",
              "  yield {\n",
              "    response: {\n",
              "      action: 'complete',\n",
              "    }\n",
              "  };\n",
              "}\n",
              "\n",
              "scope.google = scope.google || {};\n",
              "scope.google.colab = scope.google.colab || {};\n",
              "scope.google.colab._files = {\n",
              "  _uploadFiles,\n",
              "  _uploadFilesContinue,\n",
              "};\n",
              "})(self);\n",
              "</script> "
            ]
          },
          "metadata": {}
        },
        {
          "output_type": "stream",
          "name": "stdout",
          "text": [
            "Saving drug_inventory_6000.xlsx to drug_inventory_6000 (1).xlsx\n"
          ]
        }
      ]
    },
    {
      "cell_type": "code",
      "source": [
        "filename = list(uploaded.keys())[0]\n"
      ],
      "metadata": {
        "id": "ZWpHZRSZjA3B"
      },
      "execution_count": null,
      "outputs": []
    },
    {
      "cell_type": "code",
      "source": [
        "import pandas as pd\n",
        "\n",
        "# Load the dataset from the Excel file\n",
        "file_path = \"drug_inventory_6000.xlsx\"\n",
        "df = pd.read_excel(file_path)\n",
        "\n",
        "def get_drug_quantity(drug_name):\n",
        "    # Convert all drug names to lowercase for case-insensitive matching\n",
        "    drug_name = drug_name.strip().lower()\n",
        "\n",
        "    # Check if required columns exist\n",
        "    if \"Drug Name\" in df.columns and \"Quantity in Warehouse\" in df.columns and \"Drugs Sold\" in df.columns:\n",
        "        # Filter the dataset for the given drug\n",
        "        drug_info = df[df[\"Drug Name\"].str.lower() == drug_name]\n",
        "\n",
        "        if not drug_info.empty:\n",
        "            available_qty = drug_info[\"Quantity in Warehouse\"].values[0]\n",
        "            sold_qty = drug_info[\"Drugs Sold\"].values[0]\n",
        "            print(f\"Drug: {drug_name.title()}\")\n",
        "            print(f\"Available Quantity: {available_qty}\")\n",
        "            print(f\"Sold Quantity: {sold_qty}\")\n",
        "        else:\n",
        "            print(\"Drug not found in inventory.\")\n",
        "    else:\n",
        "        print(\"Error: Column names do not match. Please check your dataset.\")\n",
        "\n",
        "# Get user input and display drug details\n",
        "drug_name = input(\"Enter the drug name: \").strip()\n",
        "get_drug_quantity(drug_name)\n"
      ],
      "metadata": {
        "id": "7bcZJ6n7anjX"
      },
      "execution_count": null,
      "outputs": []
    },
    {
      "cell_type": "code",
      "source": [
        "try:\n",
        "    df = pd.read_excel(filename)  # Read the Excel file\n",
        "    df.columns = df.columns.str.strip()  # Remove any leading/trailing spaces\n",
        "    print(\"Columns in the dataset:\", df.columns.tolist())  # Print column names for debugging\n",
        "except Exception as e:\n",
        "    print(f\"Error loading Excel file: {e}\")\n",
        "    raise\n"
      ],
      "metadata": {
        "colab": {
          "base_uri": "https://localhost:8080/"
        },
        "id": "MfjkLzcTjDX6",
        "outputId": "05f5e54c-8999-47a8-f601-f8b627240e3b"
      },
      "execution_count": null,
      "outputs": [
        {
          "output_type": "stream",
          "name": "stdout",
          "text": [
            "Columns in the dataset: ['Drug ID', 'Drug Name', 'Contents', 'Expiry Date', 'Quantity in Warehouse', 'Warehouse ID', 'Drugs Sold']\n"
          ]
        }
      ]
    },
    {
      "cell_type": "code",
      "source": [
        "def get_drug_quantity(drug_name):\n",
        "    try:\n",
        "        if 'Drug Name' not in df.columns or 'Quantity in Warehouse' not in df.columns:\n",
        "            print(\"Error: Column names 'Drug Name' or 'Quantity in Warehouse' not found. Please check your dataset.\")\n",
        "            return\n",
        "\n",
        "        drug_data = df[df['Drug Name'].str.lower() == drug_name.lower()]\n",
        "        if not drug_data.empty:\n",
        "            total_quantity = drug_data['Quantity in Warehouse'].sum()  # Sum all matching quantities\n",
        "            print(f\"Total quantity of '{drug_name}': {total_quantity}\")\n",
        "        else:\n",
        "            print(f\"Drug '{drug_name}' not found in the warehouse.\")\n",
        "    except KeyError as e:\n",
        "        print(f\"KeyError: {e}. Please check the column names in the dataset.\")\n",
        "    except Exception as e:\n",
        "        print(f\"An error occurred: {e}\")"
      ],
      "metadata": {
        "id": "_98RgFshjGqd"
      },
      "execution_count": null,
      "outputs": []
    },
    {
      "cell_type": "code",
      "source": [
        "drug_name = input(\"Enter the drug name: \").strip()\n",
        "get_drug_quantity(drug_name)\n"
      ],
      "metadata": {
        "colab": {
          "base_uri": "https://localhost:8080/"
        },
        "id": "Ztob6Ym6jJ2R",
        "outputId": "da8fd7c2-a4e1-418a-e536-0c0c8a38498b"
      },
      "execution_count": null,
      "outputs": [
        {
          "output_type": "stream",
          "name": "stdout",
          "text": [
            "Enter the drug name: aspirin\n",
            "Total quantity of 'aspirin': 392523\n"
          ]
        }
      ]
    },
    {
      "cell_type": "code",
      "source": [
        "import pandas as pd\n",
        "import numpy as np\n",
        "import matplotlib.pyplot as plt\n",
        "import seaborn as sns\n",
        "from sklearn.cluster import KMeans\n",
        "from sklearn.preprocessing import StandardScaler\n",
        "\n",
        "# Load dataset\n",
        "#file_path = \"/mnt/data/drug_inventory_6000.xlsx\"  # Adjust if needed\n",
        "df = pd.read_excel(filename)\n",
        "\n",
        "# Data Preprocessing\n",
        "df.columns = df.columns.str.strip()  # Remove extra spaces\n",
        "df['Expiry Date'] = pd.to_datetime(df['Expiry Date'], errors='coerce')  # Convert date\n",
        "df['Year'] = df['Expiry Date'].dt.year  # Extract year\n",
        "df = df.dropna(subset=['Year'])  # Remove missing years\n",
        "\n",
        "# Wastage Calculation\n",
        "df['Wastage'] = df['Quantity in Warehouse'] - df['Drugs Sold']\n",
        "df['Wastage'] = df['Wastage'].apply(lambda x: x if x > 0 else 0)  # Remove negative wastage\n",
        "\n",
        "# K-Means Clustering (Grouping similar wastage patterns)\n",
        "X = df[['Year', 'Wastage']]\n",
        "scaler = StandardScaler()\n",
        "X_scaled = scaler.fit_transform(X)\n",
        "\n",
        "kmeans = KMeans(n_clusters=3, random_state=42)\n",
        "df['Cluster'] = kmeans.fit_predict(X_scaled)\n",
        "\n",
        "# Plot Wastage Trends Over the Years\n",
        "plt.figure(figsize=(10, 6))\n",
        "sns.lineplot(data=df, x='Year', y='Wastage', hue='Cluster', marker='o', palette='viridis')\n",
        "plt.title(\"Drug Wastage Over Years (Clustered)\")\n",
        "plt.xlabel(\"Year\")\n",
        "plt.ylabel(\"Wastage Quantity\")\n",
        "plt.legend(title=\"Cluster\")\n",
        "plt.grid(True)\n",
        "plt.show()"
      ],
      "metadata": {
        "colab": {
          "base_uri": "https://localhost:8080/",
          "height": 564
        },
        "id": "Fpj-XOglkpNn",
        "outputId": "6a6cbbd4-d115-4c3c-f678-2c2501a8c60c"
      },
      "execution_count": null,
      "outputs": [
        {
          "output_type": "display_data",
          "data": {
            "text/plain": [
              "<Figure size 1000x600 with 1 Axes>"
            ],
            "image/png": "[encoded data removed]"
          },
          "metadata": {}
        }
      ]
    }
  ]
}